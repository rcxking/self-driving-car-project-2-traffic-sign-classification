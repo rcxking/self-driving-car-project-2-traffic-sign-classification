{
 "cells": [
  {
   "cell_type": "markdown",
   "metadata": {},
   "source": [
    "# Self-Driving Car Engineer Nanodegree\n",
    "\n",
    "## Deep Learning\n",
    "\n",
    "## Project: Build a Traffic Sign Recognition Classifier\n",
    "\n",
    "In this notebook, a template is provided for you to implement your functionality in stages, which is required to successfully complete this project. If additional code is required that cannot be included in the notebook, be sure that the Python code is successfully imported and included in your submission if necessary. \n",
    "\n",
    "> **Note**: Once you have completed all of the code implementations, you need to finalize your work by exporting the iPython Notebook as an HTML document. Before exporting the notebook to html, all of the code cells need to have been run so that reviewers can see the final implementation and output. You can then export the notebook by using the menu above and navigating to  \\n\",\n",
    "    \"**File -> Download as -> HTML (.html)**. Include the finished document along with this notebook as your submission. \n",
    "\n",
    "In addition to implementing code, there is a writeup to complete. The writeup should be completed in a separate file, which can be either a markdown file or a pdf document. There is a [write up template](https://github.com/udacity/CarND-Traffic-Sign-Classifier-Project/blob/master/writeup_template.md) that can be used to guide the writing process. Completing the code template and writeup template will cover all of the [rubric points](https://review.udacity.com/#!/rubrics/481/view) for this project.\n",
    "\n",
    "The [rubric](https://review.udacity.com/#!/rubrics/481/view) contains \"Stand Out Suggestions\" for enhancing the project beyond the minimum requirements. The stand out suggestions are optional. If you decide to pursue the \"stand out suggestions\", you can include the code in this Ipython notebook and also discuss the results in the writeup file.\n",
    "\n",
    "\n",
    ">**Note:** Code and Markdown cells can be executed using the **Shift + Enter** keyboard shortcut. In addition, Markdown cells can be edited by typically double-clicking the cell to enter edit mode."
   ]
  },
  {
   "cell_type": "markdown",
   "metadata": {},
   "source": [
    "---\n",
    "## Step 0: Load The Data"
   ]
  },
  {
   "cell_type": "code",
   "execution_count": 1,
   "metadata": {
    "collapsed": true
   },
   "outputs": [],
   "source": [
    "# Load pickled data\n",
    "import pickle\n",
    "\n",
    "'''\n",
    "In compliance with the rubric, I have not included the 118 MB\n",
    "zip file that contains the pickled traffic sign data.\n",
    "\n",
    "If you would like to run this code on your own computer,\n",
    "please download and unzip the \"traffic-signs-data.zip\"\n",
    "file in the \"sample_data\" folder.\n",
    "'''\n",
    "\n",
    "SAMPLE_DATA_DIR = \"sample_data/\"\n",
    "training_file = SAMPLE_DATA_DIR + \"train.p\"\n",
    "validation_file = SAMPLE_DATA_DIR + \"valid.p\"\n",
    "testing_file = SAMPLE_DATA_DIR + \"test.p\"\n",
    "\n",
    "with open(training_file, mode='rb') as f:\n",
    "    train = pickle.load(f)\n",
    "with open(validation_file, mode='rb') as f:\n",
    "    valid = pickle.load(f)\n",
    "with open(testing_file, mode='rb') as f:\n",
    "    test = pickle.load(f)\n",
    "    \n",
    "X_train, y_train = train['features'], train['labels']\n",
    "X_valid, y_valid = valid['features'], valid['labels']\n",
    "X_test, y_test = test['features'], test['labels']"
   ]
  },
  {
   "cell_type": "markdown",
   "metadata": {},
   "source": [
    "---\n",
    "\n",
    "## Step 1: Dataset Summary & Exploration\n",
    "\n",
    "The pickled data is a dictionary with 4 key/value pairs:\n",
    "\n",
    "- `'features'` is a 4D array containing raw pixel data of the traffic sign images, (num examples, width, height, channels).\n",
    "- `'labels'` is a 1D array containing the label/class id of the traffic sign. The file `signnames.csv` contains id -> name mappings for each id.\n",
    "- `'sizes'` is a list containing tuples, (width, height) representing the original width and height the image.\n",
    "- `'coords'` is a list containing tuples, (x1, y1, x2, y2) representing coordinates of a bounding box around the sign in the image. **THESE COORDINATES ASSUME THE ORIGINAL IMAGE. THE PICKLED DATA CONTAINS RESIZED VERSIONS (32 by 32) OF THESE IMAGES**\n",
    "\n",
    "Complete the basic data summary below. Use python, numpy and/or pandas methods to calculate the data summary rather than hard coding the results. For example, the [pandas shape method](http://pandas.pydata.org/pandas-docs/stable/generated/pandas.DataFrame.shape.html) might be useful for calculating some of the summary results. "
   ]
  },
  {
   "cell_type": "markdown",
   "metadata": {},
   "source": [
    "### Provide a Basic Summary of the Data Set Using Python, Numpy and/or Pandas"
   ]
  },
  {
   "cell_type": "code",
   "execution_count": 2,
   "metadata": {},
   "outputs": [
    {
     "name": "stdout",
     "output_type": "stream",
     "text": [
      "Number of training examples = 34799\n",
      "Number of validation examples = 4410\n",
      "Number of testing examples = 12630\n",
      "Image data shape = (32, 32, 3)\n",
      "Number of classes = 43\n"
     ]
    }
   ],
   "source": [
    "### Replace each question mark with the appropriate value. \n",
    "### Use python, pandas or numpy methods rather than hard coding the results\n",
    "import numpy as np\n",
    "\n",
    "# Number of training examples\n",
    "n_train = len( X_train )\n",
    "\n",
    "# Number of validation examples\n",
    "n_validation = len( X_valid )\n",
    "\n",
    "# Number of testing examples.\n",
    "n_test = len( X_test )\n",
    "\n",
    "# What's the shape of an traffic sign image?\n",
    "\n",
    "# Using Numpy, the 'features' array contains the height, width, and channels of a traffic sign:\n",
    "image_shape = X_train[ 0 ].shape\n",
    "\n",
    "# TODO: How many unique classes/labels there are in the dataset.\n",
    "# A Python set contains unique values; convert the training labels to a set\n",
    "# and query its length to the get the number of unique classes.\n",
    "n_classes = len( set( y_train ) )\n",
    "\n",
    "print(\"Number of training examples =\", n_train)\n",
    "print(\"Number of validation examples =\", n_validation)\n",
    "print(\"Number of testing examples =\", n_test)\n",
    "print(\"Image data shape =\", image_shape)\n",
    "print(\"Number of classes =\", n_classes)"
   ]
  },
  {
   "cell_type": "markdown",
   "metadata": {},
   "source": [
    "### Include an exploratory visualization of the dataset"
   ]
  },
  {
   "cell_type": "markdown",
   "metadata": {},
   "source": [
    "Visualize the German Traffic Signs Dataset using the pickled file(s). This is open ended, suggestions include: plotting traffic sign images, plotting the count of each sign, etc. \n",
    "\n",
    "The [Matplotlib](http://matplotlib.org/) [examples](http://matplotlib.org/examples/index.html) and [gallery](http://matplotlib.org/gallery.html) pages are a great resource for doing visualizations in Python.\n",
    "\n",
    "**NOTE:** It's recommended you start with something simple first. If you wish to do more, come back to it after you've completed the rest of the sections. It can be interesting to look at the distribution of classes in the training, validation and test set. Is the distribution the same? Are there more examples of some classes than others?"
   ]
  },
  {
   "cell_type": "code",
   "execution_count": 3,
   "metadata": {},
   "outputs": [
    {
     "data": {
      "image/png": "[encoded data removed]",
      "text/plain": [
       "<matplotlib.figure.Figure at 0x7ff214eac278>"
      ]
     },
     "metadata": {},
     "output_type": "display_data"
    },
    {
     "data": {
      "image/png": "[encoded data removed]",
      "text/plain": [
       "<matplotlib.figure.Figure at 0x7ff221edb208>"
      ]
     },
     "metadata": {},
     "output_type": "display_data"
    },
    {
     "data": {
      "image/png": "[encoded data removed]",
      "text/plain": [
       "<matplotlib.figure.Figure at 0x7ff1e35ea4e0>"
      ]
     },
     "metadata": {},
     "output_type": "display_data"
    },
    {
     "data": {
      "image/png": "[encoded data removed]",
      "text/plain": [
       "<matplotlib.figure.Figure at 0x7ff1e356b828>"
      ]
     },
     "metadata": {},
     "output_type": "display_data"
    },
    {
     "data": {
      "image/png": "[encoded data removed]",
      "text/plain": [
       "<matplotlib.figure.Figure at 0x7ff1e3583438>"
      ]
     },
     "metadata": {},
     "output_type": "display_data"
    },
    {
     "data": {
      "image/png": "[encoded data removed]",
      "text/plain": [
       "<matplotlib.figure.Figure at 0x7ff1e35085f8>"
      ]
     },
     "metadata": {},
     "output_type": "display_data"
    },
    {
     "data": {
      "image/png": "[encoded data removed]",
      "text/plain": [
       "<matplotlib.figure.Figure at 0x7ff1e3519b70>"
      ]
     },
     "metadata": {},
     "output_type": "display_data"
    },
    {
     "data": {
      "image/png": "[encoded data removed]",
      "text/plain": [
       "<matplotlib.figure.Figure at 0x7ff1e34a63c8>"
      ]
     },
     "metadata": {},
     "output_type": "display_data"
    },
    {
     "data": {
      "image/png": "[encoded data removed]",
      "text/plain": [
       "<matplotlib.figure.Figure at 0x7ff1e3435940>"
      ]
     },
     "metadata": {},
     "output_type": "display_data"
    },
    {
     "data": {
      "image/png": "[encoded data removed]",
      "text/plain": [
       "<matplotlib.figure.Figure at 0x7ff1e33c3198>"
      ]
     },
     "metadata": {},
     "output_type": "display_data"
    }
   ],
   "source": [
    "### Data exploration visualization code goes here.\n",
    "### Feel free to use as many code cells as needed.\n",
    "import matplotlib.pyplot as plt\n",
    "# Visualizations will be shown in the notebook.\n",
    "%matplotlib inline\n",
    "\n",
    "# Plot an image of a random traffic sign from the training set:\n",
    "import random\n",
    "\n",
    "# Generate a random number in the range of 0..length of training set:\n",
    "\n",
    "# Display 10 Random Images from the Training set:\n",
    "for i in range( 10 ):\n",
    "    randomIndex = random.randint( 0, len( X_train ) )\n",
    "    randomImage = X_train[ randomIndex ]\n",
    "    \n",
    "    plt.figure( figsize = ( 1, 1 ) )\n",
    "    plt.imshow( randomImage )\n"
   ]
  },
  {
   "cell_type": "markdown",
   "metadata": {},
   "source": [
    "----\n",
    "\n",
    "## Step 2: Design and Test a Model Architecture\n",
    "\n",
    "Design and implement a deep learning model that learns to recognize traffic signs. Train and test your model on the [German Traffic Sign Dataset](http://benchmark.ini.rub.de/?section=gtsrb&subsection=dataset).\n",
    "\n",
    "The LeNet-5 implementation shown in the [classroom](https://classroom.udacity.com/nanodegrees/nd013/parts/fbf77062-5703-404e-b60c-95b78b2f3f9e/modules/6df7ae49-c61c-4bb2-a23e-6527e69209ec/lessons/601ae704-1035-4287-8b11-e2c2716217ad/concepts/d4aca031-508f-4e0b-b493-e7b706120f81) at the end of the CNN lesson is a solid starting point. You'll have to change the number of classes and possibly the preprocessing, but aside from that it's plug and play! \n",
    "\n",
    "With the LeNet-5 solution from the lecture, you should expect a validation set accuracy of about 0.89. To meet specifications, the validation set accuracy will need to be at least 0.93. It is possible to get an even higher accuracy, but 0.93 is the minimum for a successful project submission. \n",
    "\n",
    "There are various aspects to consider when thinking about this problem:\n",
    "\n",
    "- Neural network architecture (is the network over or underfitting?)\n",
    "- Play around preprocessing techniques (normalization, rgb to grayscale, etc)\n",
    "- Number of examples per label (some have more than others).\n",
    "- Generate fake data.\n",
    "\n",
    "Here is an example of a [published baseline model on this problem](http://yann.lecun.com/exdb/publis/pdf/sermanet-ijcnn-11.pdf). It's not required to be familiar with the approach used in the paper but, it's good practice to try to read papers like these."
   ]
  },
  {
   "cell_type": "markdown",
   "metadata": {},
   "source": [
    "### Pre-process the Data Set (normalization, grayscale, etc.)"
   ]
  },
  {
   "cell_type": "markdown",
   "metadata": {},
   "source": [
    "Minimally, the image data should be normalized so that the data has mean zero and equal variance. For image data, `(pixel - 128)/ 128` is a quick way to approximately normalize the data and can be used in this project. \n",
    "\n",
    "Other pre-processing steps are optional. You can try different techniques to see if it improves performance. \n",
    "\n",
    "Use the code cell (or multiple code cells, if necessary) to implement the first step of your project."
   ]
  },
  {
   "cell_type": "code",
   "execution_count": 4,
   "metadata": {
    "collapsed": true
   },
   "outputs": [],
   "source": [
    "### Preprocess the data here. It is required to normalize the data. Other preprocessing steps could include \n",
    "### converting to grayscale, etc.\n",
    "### Feel free to use as many code cells as needed.\n",
    "\n",
    "from sklearn.utils import shuffle\n",
    "\n",
    "# Normalize the image data:\n",
    "X_train = ( X_train - 128.0 ) / 128.0\n",
    "X_valid = ( X_valid - 128.0 ) / 128.0\n",
    "X_test = ( X_test - 128.0 ) / 128.0"
   ]
  },
  {
   "cell_type": "markdown",
   "metadata": {},
   "source": [
    "### Model Architecture"
   ]
  },
  {
   "cell_type": "code",
   "execution_count": 5,
   "metadata": {},
   "outputs": [],
   "source": [
    "### Define your architecture here.\n",
    "### Feel free to use as many code cells as needed.\n",
    "\n",
    "import tensorflow as tf\n",
    "from tensorflow.contrib.layers import flatten\n",
    "\n",
    "# Placeholder for Keep Probability for Dropout Layers:\n",
    "KeepProb_Placeholder = tf.placeholder( tf.float32 )\n",
    "\n",
    "def CNNModel( x ):\n",
    "    \n",
    "    # These parameters are used to help randomize the weights for each layer:\n",
    "    mu = 0\n",
    "    sigma = 0.1\n",
    "    \n",
    "    # Convolutional Layer 1.  Input = (32, 32, 3), Output = 28x28x16:\n",
    "    layer1Weights = tf.Variable( tf.truncated_normal( shape = ( 5, 5, 3, 16 ), mean = mu, stddev = sigma ) )\n",
    "    layer1Bias = tf.Variable( tf.zeros( 16 ) )\n",
    "    layer1 = tf.nn.conv2d( x, layer1Weights, strides = [ 1, 1, 1, 1 ], padding = 'VALID' ) + layer1Bias\n",
    "    \n",
    "    # Activation Layer using a RELU function:\n",
    "    actLayer1 = tf.nn.relu( layer1 )\n",
    "    \n",
    "    # Pooling Layer 1.  Input = 28x28x16.  Output = 14x14x16:\n",
    "    poolLayer1 = tf.nn.max_pool(actLayer1, ksize=[1, 2, 2, 1], strides=[1, 2, 2, 1], padding='VALID')\n",
    "    \n",
    "    # Convolution Layer 2.  Input = 14x14x16.  Output = 12x12x16:\n",
    "    layer2Weights = tf.Variable( tf.truncated_normal( shape = ( 3, 3, 16, 16 ), mean = mu, stddev = sigma ) )\n",
    "    layer2Bias = tf.Variable( tf.zeros( 16 ) )\n",
    "    layer2 = tf.nn.conv2d( poolLayer1, layer2Weights, strides = [ 1, 1, 1, 1 ], padding = 'VALID' ) + layer2Bias\n",
    "    \n",
    "    # Activation Layer 2 using a RELU function:\n",
    "    actLayer2 = tf.nn.relu( layer2 )\n",
    "    \n",
    "    # Convolution Layer 3.  Input = 12x12x16.  Output = 10x10x16:\n",
    "    layer3Weights = tf.Variable( tf.truncated_normal( shape = ( 3, 3, 16, 16 ), mean = mu, stddev = sigma ) )\n",
    "    layer3Bias = tf.Variable( tf.zeros( 16 ) )\n",
    "    layer3 = tf.nn.conv2d( actLayer2, layer3Weights, strides = [ 1, 1, 1, 1 ], padding = 'VALID' ) + layer3Bias\n",
    "    \n",
    "    # Activation Layer 3 using a RELU function:\n",
    "    actLayer3 = tf.nn.relu( layer3 )\n",
    "    \n",
    "    # Convolution Layer 4.  Input = 10x10x16.  Output = 8x8x16:\n",
    "    layer4Weights = tf.Variable( tf.truncated_normal( shape = ( 3, 3, 16, 16 ), mean = mu, stddev = sigma ) )\n",
    "    layer4Bias = tf.Variable( tf.zeros( 16 ) )\n",
    "    layer4 = tf.nn.conv2d( actLayer3, layer4Weights, strides = [ 1, 1, 1, 1 ], padding = 'VALID' ) + layer4Bias\n",
    "    \n",
    "    # Activation Layer 4 using a RELU function:\n",
    "    actLayer4 = tf.nn.relu( layer4 )\n",
    "    \n",
    "    # Dropout Layer:\n",
    "    drop = tf.nn.dropout( actLayer4, KeepProb_Placeholder )\n",
    "    \n",
    "    # Pooling Layer2.  Input = 8x8x16.  Output = 4x4x16:\n",
    "    poolLayer2 = tf.nn.max_pool( drop, ksize = [ 1, 2, 2, 1 ], strides = [ 1, 2, 2, 1 ], padding = 'VALID' )\n",
    "     \n",
    "    # Flatten Layer 1.  Input = 4x4x16.  Output = 256\n",
    "    flattenLayer1 = flatten( poolLayer2 )\n",
    "    \n",
    "    # Fully Connected Layer 1.  Input = 256.  Output = 240\n",
    "    fcLayer1Weights = tf.Variable( tf.truncated_normal( shape  = ( 256, 240 ), mean = mu, stddev = sigma  ) )\n",
    "    fcLayer1Bias = tf.Variable( tf.zeros( 240 ) )\n",
    "    fc1 = tf.matmul( flattenLayer1, fcLayer1Weights ) + fcLayer1Bias\n",
    "    \n",
    "    # Activation for FC1:\n",
    "    actFC1 = tf.nn.relu( fc1 )\n",
    "    \n",
    "    # Dropout Layer:\n",
    "    drop = tf.nn.dropout( actFC1, KeepProb_Placeholder )\n",
    "    \n",
    "    # Fully Connected Layer 2.  Input = 240.  Output = 84\n",
    "    fcLayer2Weights = tf.Variable( tf.truncated_normal( shape = ( 240, 84 ), mean = mu, stddev = sigma ) )\n",
    "    fcLayer2Bias = tf.Variable( tf.zeros( 84 ) )\n",
    "    fc2 = tf.matmul( drop, fcLayer2Weights ) + fcLayer2Bias\n",
    "    \n",
    "    # Activation for FC2:\n",
    "    actFC2 = tf.nn.relu( fc2 )\n",
    "    \n",
    "    # Dropout Layer:\n",
    "    drop = tf.nn.dropout( actFC2, KeepProb_Placeholder )\n",
    "    \n",
    "    # Fully Connected Layer 3.  Input = 84.  Output = 43.\n",
    "    fcLayer3Weights = tf.Variable( tf.truncated_normal( shape = ( 84, 43 ), mean = mu, stddev = sigma ) )\n",
    "    fcLayer3Bias = tf.Variable( tf.zeros( 43 ) )\n",
    "    logits = tf.matmul( drop, fcLayer3Weights ) + fcLayer3Bias\n",
    "    \n",
    "    return logits\n",
    "\n",
    "'''\n",
    "The input x images are ( 32, 32, 3 ).\n",
    "\n",
    "These placeholders are for feeding in, respectively, the\n",
    "training images and their labels.\n",
    "'''\n",
    "X_Placeholder = tf.placeholder( tf.float32, ( None, 32, 32, 3 ) )\n",
    "Y_Placeholder = tf.placeholder( tf.int32, ( None ) )\n",
    "\n",
    "# One-hot encoding support for the labels:\n",
    "Y_OneHot_Placeholder = tf.one_hot( Y_Placeholder, 43 )\n",
    "\n",
    "\n",
    "# Learning Rate:\n",
    "rate = 0.002\n",
    "\n",
    "# Number of Epochs and Batch Size:\n",
    "EPOCHS = 10\n",
    "BATCH_SIZE = 256\n",
    "\n",
    "# Instance of the Neural Network:\n",
    "logits = CNNModel( X_Placeholder )\n",
    "\n",
    "saver = tf.train.Saver()\n",
    "\n",
    "cross_entropy = tf.nn.softmax_cross_entropy_with_logits(labels=Y_OneHot_Placeholder, logits=logits)\n",
    "loss_operation = tf.reduce_mean(cross_entropy)\n",
    "optimizer = tf.train.AdamOptimizer(learning_rate = rate)\n",
    "training_operation = optimizer.minimize(loss_operation)\n",
    "\n",
    "correct_prediction = tf.equal(tf.argmax(logits, 1), tf.argmax(Y_OneHot_Placeholder, 1))\n",
    "accuracy_operation = tf.reduce_mean(tf.cast(correct_prediction, tf.float32))"
   ]
  },
  {
   "cell_type": "code",
   "execution_count": null,
   "metadata": {
    "collapsed": true
   },
   "outputs": [],
   "source": []
  },
  {
   "cell_type": "markdown",
   "metadata": {},
   "source": [
    "### Train, Validate and Test the Model"
   ]
  },
  {
   "cell_type": "markdown",
   "metadata": {},
   "source": [
    "A validation set can be used to assess how well the model is performing. A low accuracy on the training and validation\n",
    "sets imply underfitting. A high accuracy on the training set but low accuracy on the validation set implies overfitting."
   ]
  },
  {
   "cell_type": "code",
   "execution_count": 6,
   "metadata": {},
   "outputs": [
    {
     "name": "stdout",
     "output_type": "stream",
     "text": [
      "Now training network\n",
      "EPOCH 1 ...\n",
      "Training Accuracy = 0.780\n",
      "Validation Accuracy = 0.746\n",
      "\n",
      "EPOCH 2 ...\n",
      "Training Accuracy = 0.933\n",
      "Validation Accuracy = 0.895\n",
      "\n",
      "EPOCH 3 ...\n",
      "Training Accuracy = 0.952\n",
      "Validation Accuracy = 0.918\n",
      "\n",
      "EPOCH 4 ...\n",
      "Training Accuracy = 0.968\n",
      "Validation Accuracy = 0.940\n",
      "\n",
      "EPOCH 5 ...\n",
      "Training Accuracy = 0.976\n",
      "Validation Accuracy = 0.938\n",
      "\n",
      "EPOCH 6 ...\n",
      "Training Accuracy = 0.982\n",
      "Validation Accuracy = 0.950\n",
      "\n",
      "EPOCH 7 ...\n",
      "Training Accuracy = 0.984\n",
      "Validation Accuracy = 0.947\n",
      "\n",
      "EPOCH 8 ...\n",
      "Training Accuracy = 0.988\n",
      "Validation Accuracy = 0.964\n",
      "\n",
      "EPOCH 9 ...\n",
      "Training Accuracy = 0.990\n",
      "Validation Accuracy = 0.961\n",
      "\n",
      "EPOCH 10 ...\n",
      "Training Accuracy = 0.991\n",
      "Validation Accuracy = 0.962\n",
      "\n",
      "Done saving CNN model\n",
      "Now evaluating testing set with saved model\n",
      "Test Accuracy = 0.955\n"
     ]
    }
   ],
   "source": [
    "### Train your model here.\n",
    "### Calculate and report the accuracy on the training and validation set.\n",
    "### Once a final model architecture is selected, \n",
    "### the accuracy on the test set should be calculated and reported as well.\n",
    "### Feel free to use as many code cells as needed.\n",
    "\n",
    "def evaluate(X_data, y_data):\n",
    "    num_examples = len(X_data)\n",
    "    total_accuracy = 0\n",
    "    sess = tf.get_default_session()\n",
    "    for offset in range(0, num_examples, BATCH_SIZE):\n",
    "        batch_x, batch_y = X_data[offset:offset+BATCH_SIZE], y_data[offset:offset+BATCH_SIZE]\n",
    "        # When evaluating the accuracy of the network, it's important that the dropout probability is set to\n",
    "        # 1.0 to avoid losing any neurons.\n",
    "        accuracy = sess.run(accuracy_operation, feed_dict={X_Placeholder: batch_x, Y_Placeholder: batch_y, \n",
    "                                                           KeepProb_Placeholder: 1.0})\n",
    "        total_accuracy += (accuracy * len(batch_x))\n",
    "    return total_accuracy / num_examples\n",
    "\n",
    "'''\n",
    "Main function.  If you want to enable\n",
    "the training procedure and/or the\n",
    "testing procedure, please set the following\n",
    "variables to True:\n",
    "'''\n",
    "performTraining = True\n",
    "performTesting = True\n",
    "    \n",
    "# Do we want to train and save the network model?\n",
    "if performTraining:\n",
    "    \n",
    "    print( \"Now training network\" )\n",
    "\n",
    "    with tf.Session() as sess:\n",
    "\n",
    "        # Initialize the global variables \n",
    "        sess.run( tf.global_variables_initializer() )\n",
    "\n",
    "        for i in range(EPOCHS):\n",
    "            X_train, y_train = shuffle(X_train, y_train)\n",
    "            for offset in range(0, len( X_train ), BATCH_SIZE):\n",
    "                end = offset + BATCH_SIZE\n",
    "                batch_x, batch_y = X_train[offset:end], y_train[offset:end]\n",
    "                \n",
    "                # Train with a dropout probability of 0.5:\n",
    "                sess.run(training_operation, feed_dict={X_Placeholder: batch_x, Y_Placeholder: batch_y, \n",
    "                                                        KeepProb_Placeholder: 0.5})\n",
    "\n",
    "            # Compute the Training and Validation Accuracies for this Epoch:\n",
    "            training_accuracy = evaluate( X_train, y_train )\n",
    "            validation_accuracy = evaluate(X_valid, y_valid)\n",
    "            print(\"EPOCH {} ...\".format(i+1))\n",
    "            print(\"Training Accuracy = {:.3f}\".format(training_accuracy))\n",
    "            print(\"Validation Accuracy = {:.3f}\".format(validation_accuracy))\n",
    "            print()\n",
    "\n",
    "        # Now save the model:\n",
    "        saver.save( sess, \"./model\" )\n",
    "        print( \"Done saving CNN model\" )\n",
    "        \n",
    "# Do we want to evaluate the testing set with the saved model?\n",
    "if performTesting:\n",
    "\n",
    "    print( \"Now evaluating testing set with saved model\" )\n",
    "    with tf.Session() as sess:\n",
    "        saver.restore(sess, './model')\n",
    "        test_accuracy = evaluate(X_test, y_test)\n",
    "        print(\"Test Accuracy = {:.3f}\".format(test_accuracy))\n",
    "            "
   ]
  },
  {
   "cell_type": "markdown",
   "metadata": {},
   "source": [
    "---\n",
    "\n",
    "## Step 3: Test a Model on New Images\n",
    "\n",
    "To give yourself more insight into how your model is working, download at least five pictures of German traffic signs from the web and use your model to predict the traffic sign type.\n",
    "\n",
    "You may find `signnames.csv` useful as it contains mappings from the class id (integer) to the actual sign name."
   ]
  },
  {
   "cell_type": "markdown",
   "metadata": {},
   "source": [
    "### Load and Output the Images"
   ]
  },
  {
   "cell_type": "code",
   "execution_count": 7,
   "metadata": {},
   "outputs": [
    {
     "data": {
      "image/png": "[encoded data removed]",
      "text/plain": [
       "<matplotlib.figure.Figure at 0x7ff1e3416710>"
      ]
     },
     "metadata": {},
     "output_type": "display_data"
    },
    {
     "data": {
      "image/png": "[encoded data removed]",
      "text/plain": [
       "<matplotlib.figure.Figure at 0x7ff1b807cfd0>"
      ]
     },
     "metadata": {},
     "output_type": "display_data"
    },
    {
     "data": {
      "image/png": "[encoded data removed]",
      "text/plain": [
       "<matplotlib.figure.Figure at 0x7ff1b804b6a0>"
      ]
     },
     "metadata": {},
     "output_type": "display_data"
    },
    {
     "data": {
      "image/png": "[encoded data removed]",
      "text/plain": [
       "<matplotlib.figure.Figure at 0x7ff1b0fedb70>"
      ]
     },
     "metadata": {},
     "output_type": "display_data"
    },
    {
     "data": {
      "image/png": "[encoded data removed]",
      "text/plain": [
       "<matplotlib.figure.Figure at 0x7ff1b0fb4fd0>"
      ]
     },
     "metadata": {},
     "output_type": "display_data"
    }
   ],
   "source": [
    "### Load the images and plot them here.\n",
    "### Feel free to use as many code cells as needed.\n",
    "\n",
    "import matplotlib.pyplot as plt\n",
    "import matplotlib.image as mpimg\n",
    "import scipy\n",
    "'''\n",
    "These images were taken from the German Traffic Sign Dataset\n",
    "website: http://benchmark.ini.rub.de/?section=gtsrb&subsection=dataset\n",
    "\n",
    "The images are stored in the \"sample_data\" folder.\n",
    "'''\n",
    "\n",
    "newImageNames = [ \"bumpy_road.jpg\", \"mandatory_roundabout.jpg\", \n",
    "                 \"right_of_way.jpg\", \"stop.jpg\", \"traffic_signals.jpg\" ]\n",
    "\n",
    "# Labels (for testing) of these images.  Acquired from the \"signnames.csv\" file:\n",
    "newImageLabels = [ 22, 40, 11, 14, 26 ]\n",
    "\n",
    "# List containing the image data:\n",
    "newImages = []\n",
    "\n",
    "# Populate the list with the color image data:\n",
    "for name in newImageNames:\n",
    "    fullImagePath = SAMPLE_DATA_DIR + name\n",
    "    \n",
    "    # Open the next image:\n",
    "    nextImageData = mpimg.imread( fullImagePath )\n",
    "    \n",
    "    # Reshape the images to conform to 32x32x3:\n",
    "    nextImageData = scipy.misc.imresize( nextImageData, ( 32, 32, 3 ) )\n",
    "    \n",
    "    # Display the image before normalization:\n",
    "    plt.figure(figsize=(1,1))\n",
    "    plt.imshow( nextImageData )\n",
    "    \n",
    "    # Normalize the image data:\n",
    "    nextImageData = ( nextImageData - 128.0 ) / 128.0\n",
    "    \n",
    "    newImages.append( nextImageData )\n"
   ]
  },
  {
   "cell_type": "markdown",
   "metadata": {},
   "source": [
    "### Predict the Sign Type for Each Image"
   ]
  },
  {
   "cell_type": "code",
   "execution_count": 8,
   "metadata": {},
   "outputs": [
    {
     "name": "stdout",
     "output_type": "stream",
     "text": [
      "Prediction for image: bumpy_road.jpg: [22]\n",
      "Prediction for image: mandatory_roundabout.jpg: [40]\n",
      "Prediction for image: right_of_way.jpg: [11]\n",
      "Prediction for image: stop.jpg: [14]\n",
      "Prediction for image: traffic_signals.jpg: [26]\n"
     ]
    }
   ],
   "source": [
    "### Run the predictions here and use the model to output the prediction for each image.\n",
    "### Make sure to pre-process the images with the same pre-processing pipeline used earlier.\n",
    "### Feel free to use as many code cells as needed.\n",
    "\n",
    "# This list holds the raw values of the predictions:\n",
    "rawPredictions = []\n",
    "\n",
    "# List holding predicted classes:\n",
    "predictions = []\n",
    "\n",
    "with tf.Session() as sess:\n",
    "    saver.restore( sess, \"./model\" )\n",
    "    for i in range( len( newImages ) ):\n",
    "        nextPrediction = sess.run( tf.nn.softmax( logits ), feed_dict = { X_Placeholder: [newImages[ i ]], \n",
    "                                                        KeepProb_Placeholder: 1.0 } )\n",
    "        \n",
    "        rawPredictions.append( nextPrediction )\n",
    "        res = sess.run( tf.argmax( nextPrediction, 1 ) )\n",
    "        print( \"Prediction for image: \" + newImageNames[ i ] + \": \" + str( res ) )\n",
    "        \n",
    "        # Add this prediction to the predictions list:\n",
    "        predictions.append( res )\n",
    "    "
   ]
  },
  {
   "cell_type": "markdown",
   "metadata": {},
   "source": [
    "### Analyze Performance"
   ]
  },
  {
   "cell_type": "code",
   "execution_count": 9,
   "metadata": {},
   "outputs": [
    {
     "name": "stdout",
     "output_type": "stream",
     "text": [
      "Accuracy is: 100.0\n"
     ]
    }
   ],
   "source": [
    "### Calculate the accuracy for these 5 new images. \n",
    "### For example, if the model predicted 1 out of 5 signs correctly, it's 20% accurate on these new images.\n",
    "\n",
    "# We have the correct labels that I wrote myself as newImageLabels, so we can compare the two lists:\n",
    "acc = 0.0\n",
    "for i in range( len( newImageLabels ) ):\n",
    "    if predictions[ i ] == newImageLabels[ i ]:\n",
    "        acc += 1.0\n",
    "        \n",
    "acc /= len( newImageLabels )\n",
    "\n",
    "print( \"Accuracy is: \" + str( acc * 100.0 ) )\n"
   ]
  },
  {
   "cell_type": "markdown",
   "metadata": {},
   "source": [
    "### Output Top 5 Softmax Probabilities For Each Image Found on the Web"
   ]
  },
  {
   "cell_type": "markdown",
   "metadata": {},
   "source": [
    "For each of the new images, print out the model's softmax probabilities to show the **certainty** of the model's predictions (limit the output to the top 5 probabilities for each image). [`tf.nn.top_k`](https://www.tensorflow.org/versions/r0.12/api_docs/python/nn.html#top_k) could prove helpful here. \n",
    "\n",
    "The example below demonstrates how tf.nn.top_k can be used to find the top k predictions for each image.\n",
    "\n",
    "`tf.nn.top_k` will return the values and indices (class ids) of the top k predictions. So if k=3, for each sign, it'll return the 3 largest probabilities (out of a possible 43) and the correspoding class ids.\n",
    "\n",
    "Take this numpy array as an example. The values in the array represent predictions. The array contains softmax probabilities for five candidate images with six possible classes. `tf.nn.top_k` is used to choose the three classes with the highest probability:\n",
    "\n",
    "```\n",
    "# (5, 6) array\n",
    "a = np.array([[ 0.24879643,  0.07032244,  0.12641572,  0.34763842,  0.07893497,\n",
    "         0.12789202],\n",
    "       [ 0.28086119,  0.27569815,  0.08594638,  0.0178669 ,  0.18063401,\n",
    "         0.15899337],\n",
    "       [ 0.26076848,  0.23664738,  0.08020603,  0.07001922,  0.1134371 ,\n",
    "         0.23892179],\n",
    "       [ 0.11943333,  0.29198961,  0.02605103,  0.26234032,  0.1351348 ,\n",
    "         0.16505091],\n",
    "       [ 0.09561176,  0.34396535,  0.0643941 ,  0.16240774,  0.24206137,\n",
    "         0.09155967]])\n",
    "```\n",
    "\n",
    "Running it through `sess.run(tf.nn.top_k(tf.constant(a), k=3))` produces:\n",
    "\n",
    "```\n",
    "TopKV2(values=array([[ 0.34763842,  0.24879643,  0.12789202],\n",
    "       [ 0.28086119,  0.27569815,  0.18063401],\n",
    "       [ 0.26076848,  0.23892179,  0.23664738],\n",
    "       [ 0.29198961,  0.26234032,  0.16505091],\n",
    "       [ 0.34396535,  0.24206137,  0.16240774]]), indices=array([[3, 0, 5],\n",
    "       [0, 1, 4],\n",
    "       [0, 5, 1],\n",
    "       [1, 3, 5],\n",
    "       [1, 4, 3]], dtype=int32))\n",
    "```\n",
    "\n",
    "Looking just at the first row we get `[ 0.34763842,  0.24879643,  0.12789202]`, you can confirm these are the 3 largest probabilities in `a`. You'll also notice `[3, 0, 5]` are the corresponding indices."
   ]
  },
  {
   "cell_type": "code",
   "execution_count": 10,
   "metadata": {},
   "outputs": [
    {
     "name": "stdout",
     "output_type": "stream",
     "text": [
      "Top 5 Probabilities for image: bumpy_road.jpg :TopKV2(values=array([[  9.99895573e-01,   5.79373191e-05,   2.38585872e-05,\n",
      "          1.62530687e-05,   5.89124511e-06]], dtype=float32), indices=array([[22, 26, 20, 29, 25]], dtype=int32))\n",
      "\n",
      "Top 5 Probabilities for image: mandatory_roundabout.jpg :TopKV2(values=array([[ 0.91594058,  0.04113459,  0.03234654,  0.00274269,  0.00234299]], dtype=float32), indices=array([[40, 39, 37, 11, 16]], dtype=int32))\n",
      "\n",
      "Top 5 Probabilities for image: right_of_way.jpg :TopKV2(values=array([[  9.92086589e-01,   5.30520501e-03,   2.09821016e-03,\n",
      "          2.14885789e-04,   1.89029539e-04]], dtype=float32), indices=array([[11, 21, 30, 12, 27]], dtype=int32))\n",
      "\n",
      "Top 5 Probabilities for image: stop.jpg :TopKV2(values=array([[  9.99529362e-01,   3.65779299e-04,   3.85416060e-05,\n",
      "          2.00208233e-05,   8.47717183e-06]], dtype=float32), indices=array([[14, 17,  3, 15,  9]], dtype=int32))\n",
      "\n",
      "Top 5 Probabilities for image: traffic_signals.jpg :TopKV2(values=array([[  9.99866128e-01,   1.25704653e-04,   3.40565271e-06,\n",
      "          2.83631766e-06,   1.05470315e-06]], dtype=float32), indices=array([[26, 18, 15, 20, 12]], dtype=int32))\n",
      "\n"
     ]
    }
   ],
   "source": [
    "### Print out the top five softmax probabilities for the predictions on the German traffic sign images found on the web. \n",
    "### Feel free to use as many code cells as needed.\n",
    "\n",
    "# The raw softmax probabilities are stored in the \"rawPredictions\" list:\n",
    "with tf.Session() as sess:\n",
    "    \n",
    "    for i in range( len( rawPredictions ) ):\n",
    "        res = sess.run( tf.nn.top_k( rawPredictions[ i ], k = 5 ) ) \n",
    "        \n",
    "        print( \"Top 5 Probabilities for image: \" + newImageNames[ i ] + \" :\" + str( res ) )\n",
    "        print()\n",
    "    "
   ]
  },
  {
   "cell_type": "markdown",
   "metadata": {},
   "source": [
    "### Project Writeup\n",
    "\n",
    "Once you have completed the code implementation, document your results in a project writeup using this [template](https://github.com/udacity/CarND-Traffic-Sign-Classifier-Project/blob/master/writeup_template.md) as a guide. The writeup can be in a markdown or pdf file. "
   ]
  },
  {
   "cell_type": "markdown",
   "metadata": {},
   "source": [
    "> **Note**: Once you have completed all of the code implementations and successfully answered each question above, you may finalize your work by exporting the iPython Notebook as an HTML document. You can do this by using the menu above and navigating to  \\n\",\n",
    "    \"**File -> Download as -> HTML (.html)**. Include the finished document along with this notebook as your submission."
   ]
  },
  {
   "cell_type": "markdown",
   "metadata": {},
   "source": [
    "---\n",
    "\n",
    "## Step 4 (Optional): Visualize the Neural Network's State with Test Images\n",
    "\n",
    " This Section is not required to complete but acts as an additional excersise for understaning the output of a neural network's weights. While neural networks can be a great learning device they are often referred to as a black box. We can understand what the weights of a neural network look like better by plotting their feature maps. After successfully training your neural network you can see what it's feature maps look like by plotting the output of the network's weight layers in response to a test stimuli image. From these plotted feature maps, it's possible to see what characteristics of an image the network finds interesting. For a sign, maybe the inner network feature maps react with high activation to the sign's boundary outline or to the contrast in the sign's painted symbol.\n",
    "\n",
    " Provided for you below is the function code that allows you to get the visualization output of any tensorflow weight layer you want. The inputs to the function should be a stimuli image, one used during training or a new one you provided, and then the tensorflow variable name that represents the layer's state during the training process, for instance if you wanted to see what the [LeNet lab's](https://classroom.udacity.com/nanodegrees/nd013/parts/fbf77062-5703-404e-b60c-95b78b2f3f9e/modules/6df7ae49-c61c-4bb2-a23e-6527e69209ec/lessons/601ae704-1035-4287-8b11-e2c2716217ad/concepts/d4aca031-508f-4e0b-b493-e7b706120f81) feature maps looked like for it's second convolutional layer you could enter conv2 as the tf_activation variable.\n",
    "\n",
    "For an example of what feature map outputs look like, check out NVIDIA's results in their paper [End-to-End Deep Learning for Self-Driving Cars](https://devblogs.nvidia.com/parallelforall/deep-learning-self-driving-cars/) in the section Visualization of internal CNN State. NVIDIA was able to show that their network's inner weights had high activations to road boundary lines by comparing feature maps from an image with a clear path to one without. Try experimenting with a similar test to show that your trained network's weights are looking for interesting features, whether it's looking at differences in feature maps from images with or without a sign, or even what feature maps look like in a trained network vs a completely untrained one on the same sign image.\n",
    "\n",
    "<figure>\n",
    " <img src=\"visualize_cnn.png\" width=\"380\" alt=\"Combined Image\" />\n",
    " <figcaption>\n",
    " <p></p> \n",
    " <p style=\"text-align: center;\"> Your output should look something like this (above)</p> \n",
    " </figcaption>\n",
    "</figure>\n",
    " <p></p> \n"
   ]
  },
  {
   "cell_type": "code",
   "execution_count": 11,
   "metadata": {
    "collapsed": true
   },
   "outputs": [],
   "source": [
    "### Visualize your network's feature maps here.\n",
    "### Feel free to use as many code cells as needed.\n",
    "\n",
    "# image_input: the test image being fed into the network to produce the feature maps\n",
    "# tf_activation: should be a tf variable name used during your training procedure that represents the calculated state of a specific weight layer\n",
    "# activation_min/max: can be used to view the activation contrast in more detail, by default matplot sets min and max to the actual min and max values of the output\n",
    "# plt_num: used to plot out multiple different weight feature map sets on the same block, just extend the plt number for each new feature map entry\n",
    "\n",
    "def outputFeatureMap(image_input, tf_activation, activation_min=-1, activation_max=-1 ,plt_num=1):\n",
    "    # Here make sure to preprocess your image_input in a way your network expects\n",
    "    # with size, normalization, ect if needed\n",
    "    # image_input =\n",
    "    # Note: x should be the same name as your network's tensorflow data placeholder variable\n",
    "    # If you get an error tf_activation is not defined it may be having trouble accessing the variable from inside a function\n",
    "    activation = tf_activation.eval(session=sess,feed_dict={x : image_input})\n",
    "    featuremaps = activation.shape[3]\n",
    "    plt.figure(plt_num, figsize=(15,15))\n",
    "    for featuremap in range(featuremaps):\n",
    "        plt.subplot(6,8, featuremap+1) # sets the number of feature maps to show on each row and column\n",
    "        plt.title('FeatureMap ' + str(featuremap)) # displays the feature map number\n",
    "        if activation_min != -1 & activation_max != -1:\n",
    "            plt.imshow(activation[0,:,:, featuremap], interpolation=\"nearest\", vmin =activation_min, vmax=activation_max, cmap=\"gray\")\n",
    "        elif activation_max != -1:\n",
    "            plt.imshow(activation[0,:,:, featuremap], interpolation=\"nearest\", vmax=activation_max, cmap=\"gray\")\n",
    "        elif activation_min !=-1:\n",
    "            plt.imshow(activation[0,:,:, featuremap], interpolation=\"nearest\", vmin=activation_min, cmap=\"gray\")\n",
    "        else:\n",
    "            plt.imshow(activation[0,:,:, featuremap], interpolation=\"nearest\", cmap=\"gray\")"
   ]
  }
 ],
 "metadata": {
  "anaconda-cloud": {},
  "kernelspec": {
   "display_name": "Python 3",
   "language": "python",
   "name": "python3"
  },
  "language_info": {
   "codemirror_mode": {
    "name": "ipython",
    "version": 3
   },
   "file_extension": ".py",
   "mimetype": "text/x-python",
   "name": "python",
   "nbconvert_exporter": "python",
   "pygments_lexer": "ipython3",
   "version": "3.5.2"
  },
  "widgets": {
   "state": {},
   "version": "1.1.2"
  }
 },
 "nbformat": 4,
 "nbformat_minor": 1
}
